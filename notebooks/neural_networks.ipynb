{
  "nbformat": 4,
  "nbformat_minor": 0,
  "metadata": {
    "colab": {
      "name": "Neural Network Potentials.ipynb",
      "provenance": [],
      "collapsed_sections": [],
      "toc_visible": true,
      "authorship_tag": "ABX9TyPerd1yYTwBMfvTl3GEBxWk",
      "include_colab_link": true
    },
    "kernelspec": {
      "name": "python3",
      "display_name": "Python 3"
    },
    "accelerator": "GPU"
  },
  "cells": [
    {
      "cell_type": "markdown",
      "metadata": {
        "id": "view-in-github",
        "colab_type": "text"
      },
      "source": [
        "<a href=\"https://colab.research.google.com/github/google/jax-md/blob/master/notebooks/neural_networks.ipynb\" target=\"_parent\"><img src=\"https://colab.research.google.com/assets/colab-badge.svg\" alt=\"Open In Colab\"/></a>"
      ]
    },
    {
      "cell_type": "markdown",
      "metadata": {
        "id": "b7RYjwcysgZI",
        "colab_type": "text"
      },
      "source": [
        "Copyright 2020 Google LLC\n",
        "\n",
        "Licensed under the Apache License, Version 2.0 (the \"License\");\n",
        "you may not use this file except in compliance with the License.\n",
        "You may obtain a copy of the License at\n",
        "\n",
        "     https://www.apache.org/licenses/LICENSE-2.0\n",
        "\n",
        "Unless required by applicable law or agreed to in writing, software\n",
        "distributed under the License is distributed on an \"AS IS\" BASIS,\n",
        "WITHOUT WARRANTIES OR CONDITIONS OF ANY KIND, either express or implied.\n",
        "See the License for the specific language governing permissions and\n",
        "limitations under the License."
      ]
    },
    {
      "cell_type": "code",
      "metadata": {
        "id": "KVIHud2diL51",
        "colab_type": "code",
        "cellView": "form",
        "colab": {}
      },
      "source": [
        "#@title Imports & Utils\n",
        "!pip install -q git+https://www.github.com/deepmind/haiku\n",
        "!pip install -q --upgrade git+https://www.github.com/google/jax-md\n",
        "\n",
        "# Imports\n",
        "\n",
        "import os\n",
        "import numpy as onp\n",
        "import pickle\n",
        "\n",
        "import jax\n",
        "from jax import lax\n",
        "\n",
        "from jax.api import jit, vmap, grad\n",
        "\n",
        "from jax.config import config ; config.update('jax_enable_x64', True)\n",
        "import jax.numpy as np\n",
        "\n",
        "from jax import random\n",
        "from jax.experimental import optix\n",
        "\n",
        "from jax_md import energy, space, simulate, quantity\n",
        "\n",
        "# Plotting.\n",
        "\n",
        "import matplotlib\n",
        "import matplotlib.pyplot as plt\n",
        "import seaborn as sns\n",
        "\n",
        "import pylab as pl\n",
        "from IPython import display\n",
        "from functools import partial\n",
        "  \n",
        "sns.set_style(style='white')\n",
        "sns.set(font_scale=1.6)\n",
        "\n",
        "def format_plot(x, y):\n",
        "  plt.xlabel(x, fontsize=20)\n",
        "  plt.ylabel(y, fontsize=20)\n",
        "  \n",
        "def finalize_plot(shape=(1, 1)):\n",
        "  plt.gcf().set_facecolor('white')\n",
        "  plt.gcf().set_size_inches(\n",
        "    shape[0] * 1.5 * plt.gcf().get_size_inches()[1], \n",
        "    shape[1] * 1.5 * plt.gcf().get_size_inches()[1])\n",
        "  plt.tight_layout()\n",
        "\n",
        "def draw_training(params):\n",
        "  display.clear_output(wait=True)\n",
        "  display.display(plt.gcf())\n",
        "  plt.subplot(1, 2, 1)\n",
        "  plt.semilogy(train_energy_error)\n",
        "  plt.semilogy(test_energy_error)\n",
        "  plt.xlim([0, train_epochs])\n",
        "  format_plot('Epoch', '$L$')\n",
        "  plt.subplot(1, 2, 2)\n",
        "  predicted = vmap(energy_fn, (None, 0))(params, example_positions)\n",
        "  plt.plot(example_energies, predicted, 'o')\n",
        "  plt.plot(np.linspace(-400, -300, 10), np.linspace(-400, -300, 10), '--')\n",
        "  format_plot('$E_{label}$', '$E_{prediction}$')\n",
        "  finalize_plot((2, 1))\n",
        "  plt.show()\n",
        "\n",
        "# Data Loading.\n",
        "\n",
        "def MD_trajectory_reader(f, no_skip=20):\n",
        "  filename = os.path.join('Supplementary/', f)\n",
        "  fo = open(filename, 'r')\n",
        "  samples = fo.read().split('iter= ')[1:]\n",
        "  steps = []\n",
        "  lattice_vectors = []\n",
        "  positions = []\n",
        "  forces = []\n",
        "  temperatures = []\n",
        "  energies = []\n",
        "  for sample in samples[::no_skip]:\n",
        "    entries = sample.split('\\n')\n",
        "    steps.append(int(entries[0]))\n",
        "    lattice_vectors.append(onp.array([list(map(float, lv.split())) for lv in entries[1:4]]))\n",
        "    assert entries[4]=='64'\n",
        "    temp = onp.array([list(map(float, lv.split()[1:])) for lv in entries[5:69]])\n",
        "    positions.append(temp[:,:3])\n",
        "    forces.append(temp[:,3:])\n",
        "    remaining_lines = entries[69:]\n",
        "    temperatures.append(float([entry for entry in entries[69:] if 'Temp' in entry ][0].split('=')[1].split()[0]))\n",
        "    energies.append(float([entry for entry in entries[69:] if 'el-ion E' in entry ][0].split('=')[1].split()[0]))\n",
        "  assert (len(set(steps))-(steps[-1]-steps[0]+1)/no_skip) < 1\n",
        "  return np.array(positions), np.array(energies), np.array(forces)\n",
        "\n",
        "def build_dataset():\n",
        "  no_skip = 15\n",
        "  data300, energies300, forces300 = MD_trajectory_reader(\n",
        "      'MD_DATA.cubic_300K', no_skip=no_skip)\n",
        "  data600, energies600, forces600 = MD_trajectory_reader(\n",
        "      'MD_DATA.cubic_600K', no_skip=no_skip)\n",
        "  data900, energies900, forces900 = MD_trajectory_reader(\n",
        "      'MD_DATA.cubic_900K', no_skip=no_skip)\n",
        "  dataliq, energiesliq, forcesliq = MD_trajectory_reader(\n",
        "      'MD_DATA.liq_1', no_skip=no_skip)\n",
        "\n",
        "  all_data = np.vstack((data300, data600, data900))\n",
        "  all_energies = np.hstack((energies300, energies600, energies900))\n",
        "  all_forces = np.vstack((forces300, forces600, forces900))\n",
        "  noTotal = all_data.shape[0]\n",
        "\n",
        "  II = onp.random.permutation(range(noTotal))\n",
        "  all_data = all_data[II]\n",
        "  all_energies = all_energies[II]\n",
        "  all_forces = all_forces[II]\n",
        "  noTr = int(noTotal * 0.65)\n",
        "  noTe = noTotal - noTr\n",
        "  train_data = all_data[:noTr]\n",
        "  test_data = all_data[noTr:]\n",
        "\n",
        "  train_energies = all_energies[:noTr]\n",
        "  test_energies = all_energies[noTr:]\n",
        "\n",
        "  train_forces = all_forces[:noTr]\n",
        "  test_forces = all_forces[noTr:]\n",
        "\n",
        "  return ((train_data, train_energies, train_forces),\n",
        "          (test_data, test_energies, test_forces))"
      ],
      "execution_count": 0,
      "outputs": []
    },
    {
      "cell_type": "markdown",
      "metadata": {
        "id": "muBsYny61Gbv",
        "colab_type": "text"
      },
      "source": [
        "# Neural Network Potentials"
      ]
    },
    {
      "cell_type": "markdown",
      "metadata": {
        "id": "3gjTwTSvvozm",
        "colab_type": "text"
      },
      "source": [
        "An area of significant recent interest is the use of neural networks to model quantum mechanics. Since directly (or approximately) solving Schrodinger's equation is extremely expensive, these techniques offers the tantalizing possibility of conducting large-scale and high-fidelity experiments of materials as well as chemical and biochemical systems. \n",
        "\n",
        "\\\n",
        "\n",
        "Usually, neural networks are fit to energies computed from Density Functional Theory (DFT). DFT is a ubiquitous *ab initio* formalism for approximating solutions to Schrodinger's equation. It offers a balance between accuracy and speed; DFT is much faster than more precise solutions to quantum systems, but is fast enough to use on systems of hundreds of atoms. Nonetheless, DFT calculations scale as $\\mathcal O(N^3)$ and so they are prohibitively expensive to run on large systems or for long simulation trajectories. \n",
        "\n",
        "\\\n",
        "\n",
        "As with many areas of machine learning, early efforts to fit quantum mechanical interactions with neural networks relied on fixed feature methods with shallow neural network potentials. Lately, however, these networks have been replaced by deeper graph neural network architectures that learn salient features. JAX MD includes both popular fixed-feature methods as well as graph neural networks. \n",
        "\n",
        "\\\n",
        "\n",
        "Here we will use JAX MD to fit a state-of-the-art graph neural network to open-source DFT data from a 64-atom Silicon system that accompanied a [recent paper](https://aip.scitation.org/doi/10.1063/1.4990503). This Silicon system was simulated at several different temperatures. We will uniformly sample data from these trajectories to construct training and test sets. We will follow modern best-practices and fit to both energies and forces computed using DFT. We will then use this network to run a simulation using JAX MDs simulation environments. To start with we first download the data. This might take a little a minute or two."
      ]
    },
    {
      "cell_type": "code",
      "metadata": {
        "id": "ZgP6T5VV3wSn",
        "colab_type": "code",
        "cellView": "form",
        "colab": {}
      },
      "source": [
        "#@title Download Data\n",
        "\n",
        "!wget https://aip.scitation.org/doi/suppl/10.1063/1.4990503/suppl_file/supplementary.zip\n",
        "!wget https://github.com/google/jax-md/blob/master/examples/models/si_gnn.pickle?raw=true\n",
        "!unzip supplementary.zip"
      ],
      "execution_count": 0,
      "outputs": []
    },
    {
      "cell_type": "markdown",
      "metadata": {
        "id": "pjbaj79a4Av4",
        "colab_type": "text"
      },
      "source": [
        "We will then load the data using a small utility function into training and test sets. Each split will include particle positions, whole-system energies, and per-particle forces. To assist in training we will compute the mean and standard deviation of the data and use this to set the initial scale for our neural network."
      ]
    },
    {
      "cell_type": "code",
      "metadata": {
        "id": "dNIar1gB3zig",
        "colab_type": "code",
        "outputId": "5a06f3a5-c4de-47cd-cd39-c975f103b3d8",
        "colab": {
          "base_uri": "https://localhost:8080/",
          "height": 56
        }
      },
      "source": [
        "train, test = build_dataset()\n",
        "\n",
        "positions, energies, forces = train\n",
        "test_positions, test_energies, test_forces = test\n",
        "\n",
        "energy_mean = np.mean(energies)\n",
        "energy_std = np.std(energies)\n",
        "\n",
        "print('positions.shape = {}'.format(positions.shape))\n",
        "print('<E> = {}'.format(energy_mean))"
      ],
      "execution_count": 0,
      "outputs": [
        {
          "output_type": "stream",
          "text": [
            "positions.shape = (2416, 64, 3)\n",
            "<E> = -368.9062805449131\n"
          ],
          "name": "stdout"
        }
      ]
    },
    {
      "cell_type": "markdown",
      "metadata": {
        "id": "Kib1B2Mm4yRp",
        "colab_type": "text"
      },
      "source": [
        "Next we create a space for our systems to live in using `periodic` boundary conditions."
      ]
    },
    {
      "cell_type": "code",
      "metadata": {
        "id": "nMzMGNf0463Y",
        "colab_type": "code",
        "colab": {}
      },
      "source": [
        "box_size = 10.862  # The size of the simulation region.\n",
        "displacement, shift = space.periodic(box_size)"
      ],
      "execution_count": 0,
      "outputs": []
    },
    {
      "cell_type": "markdown",
      "metadata": {
        "id": "WNs8v2745Mc3",
        "colab_type": "text"
      },
      "source": [
        "We can now instantiate a graph neural network using the `energy.graph_network_neighbor_list` command. This neural network is based on [recent work](https://www.nature.com/articles/s41567-020-0842-8) modelling defects in disordered solids. See that paper or the review by [Battaglia et al.](https://arxiv.org/abs/1806.01261) for details. We will add edges between all neighbors that are separated by less than a cutoff of 3 Angstroms. In JAX MD neural network potentials are specified by a triple of functions: a `neighbor_fn` that creates a list of neighbors that reside within the cutoff, an `init_fn` that initializes the parameters of the network, and an `energy_fn` that evaluates the model."
      ]
    },
    {
      "cell_type": "code",
      "metadata": {
        "id": "Fu4RvlXU5Cwb",
        "colab_type": "code",
        "colab": {}
      },
      "source": [
        "neighbor_fn, init_fn, _energy_fn = energy.graph_network_neighbor_list(\n",
        "    displacement, box_size, r_cutoff=3.0, dr_threshold=0.0)"
      ],
      "execution_count": 0,
      "outputs": []
    },
    {
      "cell_type": "markdown",
      "metadata": {
        "id": "BLF5A-D96jDU",
        "colab_type": "text"
      },
      "source": [
        "To start with, we construct an initial neighbor list which will be used to estimate the maximum number of neighbors. This is necessary since XLA needs to have static shapes to enable JIT compilation. See [here](https://github.com/google/jax-md#spatial-partitioning-partitionpy) for details."
      ]
    },
    {
      "cell_type": "code",
      "metadata": {
        "id": "FzcabwoM6iiN",
        "colab_type": "code",
        "outputId": "f15babb3-61dd-47d0-87d1-f92035719c34",
        "colab": {
          "base_uri": "https://localhost:8080/",
          "height": 37
        }
      },
      "source": [
        "neighbor = neighbor_fn(positions[0], extra_capacity=6)\n",
        "\n",
        "print('Allocating space for at most {} neighbors'.format(neighbor.idx.shape[1]))"
      ],
      "execution_count": 0,
      "outputs": [
        {
          "output_type": "stream",
          "text": [
            "Allocating space for at most 12 neighbors\n"
          ],
          "name": "stdout"
        }
      ]
    },
    {
      "cell_type": "markdown",
      "metadata": {
        "id": "t2pWF0jE_Ha4",
        "colab_type": "text"
      },
      "source": [
        "Using this neighbor prototype we will write a wrapper around our neural network energy function that will construct a neighbor list for a given state, compute the energy, and scale the predictions by the standard deviation and mean of the data. Using JAX's automatic differentiation we can also write down a function that computes the force due to our neural network potential.\n",
        "\n",
        "Note that if we were running a simulation using this energy, we would only rebuild the neighbor list when necessary."
      ]
    },
    {
      "cell_type": "code",
      "metadata": {
        "id": "CZVtIaMs_3IY",
        "colab_type": "code",
        "colab": {}
      },
      "source": [
        "@jit\n",
        "def energy_fn(params, R, **kwargs):\n",
        "  _neighbor = neighbor_fn(R, neighbor)\n",
        "  return _energy_fn(params, R, _neighbor) * energy_std + energy_mean\n",
        "\n",
        "force_fn = lambda params, R, **kwargs: -grad(energy_fn, argnums=1)(params, R, **kwargs)"
      ],
      "execution_count": 0,
      "outputs": []
    },
    {
      "cell_type": "markdown",
      "metadata": {
        "id": "R3MvxVtj-SUQ",
        "colab_type": "text"
      },
      "source": [
        "Next we will initialize the parameters of the graph network. This is done by providing the `init_fn` with a random key as well as an example input. As with the neighbor lists, this example input is used to deduce the shape of the various parameters."
      ]
    },
    {
      "cell_type": "code",
      "metadata": {
        "id": "dhnKug1_-MPS",
        "colab_type": "code",
        "colab": {}
      },
      "source": [
        "key = random.PRNGKey(0)\n",
        "\n",
        "params = init_fn(key, positions[0], neighbor)"
      ],
      "execution_count": 0,
      "outputs": []
    },
    {
      "cell_type": "markdown",
      "metadata": {
        "id": "1H2wGxzg-tJv",
        "colab_type": "text"
      },
      "source": [
        "Now, we can use JAX's automatic vectorization via `vmap` to compute predicted energies for all of the states using the untrained network."
      ]
    },
    {
      "cell_type": "code",
      "metadata": {
        "id": "ns5oB-gN-n9P",
        "colab_type": "code",
        "colab": {}
      },
      "source": [
        "n_predictions = 500\n",
        "example_positions = positions[:n_predictions]\n",
        "example_energies = energies[:n_predictions]\n",
        "example_forces = forces[:n_predictions]\n",
        "\n",
        "predicted = vmap(energy_fn, (None, 0))(params, example_positions)"
      ],
      "execution_count": 0,
      "outputs": []
    },
    {
      "cell_type": "code",
      "metadata": {
        "id": "BP6x1sEPAY_A",
        "colab_type": "code",
        "outputId": "4c1dbccd-7d34-4cc5-c78b-74136e0b0195",
        "colab": {
          "base_uri": "https://localhost:8080/",
          "height": 441
        }
      },
      "source": [
        "plt.plot(example_energies, predicted, 'o')\n",
        "\n",
        "format_plot('$E_{label}$', '$E_{predicted}$')\n",
        "\n",
        "finalize_plot((1, 1))"
      ],
      "execution_count": 0,
      "outputs": [
        {
          "output_type": "display_data",
          "data": {
            "image/png": "[encoded data removed]",
            "text/plain": [
              "<Figure size 432x432 with 1 Axes>"
            ]
          },
          "metadata": {
            "tags": []
          }
        }
      ]
    },
    {
      "cell_type": "markdown",
      "metadata": {
        "id": "Q55oI3EAAeyN",
        "colab_type": "text"
      },
      "source": [
        "Despite the fact that the neural network is untrained we see that the outputs of the graph network correlate strongly with the labels. This hints that perhaps graph networks provide some sort of \"deep molecular prior\". \n",
        "\n",
        "Next, we define losses for the energy and the force as well as a total loss that combines the two terms. We fit both the force and the energy using Mean-Squared-Error (MSE) loss."
      ]
    },
    {
      "cell_type": "code",
      "metadata": {
        "id": "pwxERR68AeoB",
        "colab_type": "code",
        "colab": {}
      },
      "source": [
        "@jit\n",
        "def energy_loss(params, R, energy_targets):\n",
        "  return np.mean((vmap(energy_fn, (None, 0))(params, R) - energy_targets) ** 2)\n",
        "\n",
        "@jit\n",
        "def force_loss(params, R, force_targets):\n",
        "  dforces = vmap(force_fn, (None, 0))(params, R) - force_targets\n",
        "  return np.mean(np.sum(dforces ** 2, axis=(1, 2)))\n",
        "\n",
        "@jit\n",
        "def loss(params, R, targets):\n",
        "  return energy_loss(params, R, targets[0]) + force_loss(params, R, targets[1])"
      ],
      "execution_count": 0,
      "outputs": []
    },
    {
      "cell_type": "markdown",
      "metadata": {
        "id": "seSkwLZqBIrK",
        "colab_type": "text"
      },
      "source": [
        "Now we create an optimizer using ADAM with gradient clipping. We will also write helper functions to perform a single update step and perform an entire epochs worth of updates."
      ]
    },
    {
      "cell_type": "code",
      "metadata": {
        "id": "xhgLDCFSAcdI",
        "colab_type": "code",
        "colab": {}
      },
      "source": [
        "opt = optix.chain(optix.clip_by_global_norm(1.0),\n",
        "                  optix.adam(1e-3))\n",
        "\n",
        "@jit\n",
        "def update_step(params, opt_state, R, labels):\n",
        "  updates, opt_state = opt.update(grad(loss)(params, R, labels),\n",
        "                                  opt_state)\n",
        "  return optix.apply_updates(params, updates), opt_state\n",
        "\n",
        "@jit\n",
        "def update_epoch(params_and_opt_state, batches):\n",
        "  def inner_update(params_and_opt_state, batch):\n",
        "    params, opt_state = params_and_opt_state\n",
        "    b_xs, b_labels = batch\n",
        "\n",
        "    return update_step(params, opt_state, b_xs, b_labels), 0\n",
        "  return lax.scan(inner_update, params_and_opt_state, batches)[0]"
      ],
      "execution_count": 0,
      "outputs": []
    },
    {
      "cell_type": "markdown",
      "metadata": {
        "id": "BHkWBfh7CHGt",
        "colab_type": "text"
      },
      "source": [
        "Finally, we will write a function that creates an epoch's worth of batches given a lookup table that shuffles all of the states in the training set."
      ]
    },
    {
      "cell_type": "code",
      "metadata": {
        "id": "We1uelXUBaXj",
        "colab_type": "code",
        "colab": {}
      },
      "source": [
        "dataset_size = positions.shape[0]\n",
        "batch_size = 128\n",
        "\n",
        "lookup = onp.arange(dataset_size)\n",
        "onp.random.shuffle(lookup)\n",
        "\n",
        "@jit\n",
        "def make_batches(lookup):\n",
        "  batch_Rs = []\n",
        "  batch_Es = []\n",
        "  batch_Fs = []\n",
        "\n",
        "  for i in range(0, len(lookup), batch_size):\n",
        "    if i + batch_size > len(lookup):\n",
        "      break\n",
        "\n",
        "    idx = lookup[i:i + batch_size]\n",
        "\n",
        "    batch_Rs += [positions[idx]]\n",
        "    batch_Es += [energies[idx]]\n",
        "    batch_Fs += [forces[idx]]\n",
        "\n",
        "  return np.stack(batch_Rs), np.stack(batch_Es), np.stack(batch_Fs)\n",
        "\n",
        "batch_Rs, batch_Es, batch_Fs = make_batches(lookup)"
      ],
      "execution_count": 0,
      "outputs": []
    },
    {
      "cell_type": "markdown",
      "metadata": {
        "id": "MZCqMAUvCVS6",
        "colab_type": "text"
      },
      "source": [
        "We're now ready to train our network. We'll start by training for twenty epochs to make sure it starts training."
      ]
    },
    {
      "cell_type": "code",
      "metadata": {
        "id": "DrmKVE6lCQz_",
        "colab_type": "code",
        "outputId": "69174c75-485b-40c3-bcd8-2f3258ac41f4",
        "colab": {
          "base_uri": "https://localhost:8080/",
          "height": 461
        }
      },
      "source": [
        "train_epochs = 20\n",
        "\n",
        "opt_state = opt.init(params)\n",
        "\n",
        "train_energy_error = []\n",
        "test_energy_error = []\n",
        "\n",
        "for iteration in range(train_epochs):\n",
        "  train_energy_error += [float(np.sqrt(energy_loss(params, batch_Rs[0], batch_Es[0])))]\n",
        "  test_energy_error += [float(np.sqrt(energy_loss(params, test_positions, test_energies)))]\n",
        " \n",
        "  draw_training(params)\n",
        "\n",
        "  params, opt_state = update_epoch((params, opt_state), \n",
        "                                   (batch_Rs, (batch_Es, batch_Fs)))\n",
        "\n",
        "  onp.random.shuffle(lookup)\n",
        "  batch_Rs, batch_Es, batch_Fs = make_batches(lookup)"
      ],
      "execution_count": 0,
      "outputs": [
        {
          "output_type": "display_data",
          "data": {
            "text/plain": [
              "<Figure size 432x288 with 0 Axes>"
            ]
          },
          "metadata": {
            "tags": []
          }
        },
        {
          "output_type": "display_data",
          "data": {
            "image/png": "[encoded data removed]",
            "text/plain": [
              "<Figure size 864x432 with 2 Axes>"
            ]
          },
          "metadata": {
            "tags": []
          }
        }
      ]
    },
    {
      "cell_type": "markdown",
      "metadata": {
        "id": "MV-qtMJsD6s7",
        "colab_type": "text"
      },
      "source": [
        "While we see that the network has begun to learn the energies, we also see that it has a long way to go before the predictions get good enough to use in a simulation. As such we're going to take inspiration from cooking shows, and take a ready-made GNN out of the fridge where it has been training overnight for 12,000 epochs on a V100 GPU."
      ]
    },
    {
      "cell_type": "code",
      "metadata": {
        "id": "e89weTfODSDz",
        "colab_type": "code",
        "colab": {}
      },
      "source": [
        "with open('si_gnn.pickle?raw=true', 'rb') as f:\n",
        "  params = pickle.load(f)"
      ],
      "execution_count": 0,
      "outputs": []
    },
    {
      "cell_type": "markdown",
      "metadata": {
        "id": "KiYDpSSVGR0l",
        "colab_type": "text"
      },
      "source": [
        "Using our trained model we plot the predicted energies and forces against the labels. "
      ]
    },
    {
      "cell_type": "code",
      "metadata": {
        "id": "4j0Zz0RDEUVF",
        "colab_type": "code",
        "outputId": "c8b3bfa8-9725-43d7-99aa-52ed1834b11b",
        "colab": {
          "base_uri": "https://localhost:8080/",
          "height": 441
        }
      },
      "source": [
        "predicted = vmap(energy_fn, (None, 0))(params, example_positions)\n",
        "\n",
        "plt.subplot(1, 2, 1)\n",
        "\n",
        "plt.plot(example_energies, predicted, 'o')\n",
        "\n",
        "format_plot('$E_{label}$', '$E_{predicted}$')\n",
        "plt.subplot(1, 2, 2)\n",
        "\n",
        "plt.plot(\n",
        "    vmap(force_fn, (None, 0))(params, test_positions[:300]).reshape((-1,)),\n",
        "    test_forces[:300].reshape((-1,)), 'o')\n",
        "plt.plot(np.linspace(-6, 6, 20), np.linspace(-6, 6, 20), '--')\n",
        "plt.xlim([-5, 5])\n",
        "plt.ylim([-5, 5])\n",
        "\n",
        "format_plot('$F_{label}$', '$F_{predicted}$')\n",
        "finalize_plot((2, 1))"
      ],
      "execution_count": 0,
      "outputs": [
        {
          "output_type": "display_data",
          "data": {
            "image/png": "[encoded data removed]",
            "text/plain": [
              "<Figure size 864x432 with 2 Axes>"
            ]
          },
          "metadata": {
            "tags": []
          }
        }
      ]
    },
    {
      "cell_type": "markdown",
      "metadata": {
        "id": "CEHy6mb-GtHp",
        "colab_type": "text"
      },
      "source": [
        "We see that the model prediction for the energy is extremely accurate and the force prediction is reasonable. To make this a bit more quantitative, we can compute the RMSE of the energy and convert it to meV / atom."
      ]
    },
    {
      "cell_type": "code",
      "metadata": {
        "id": "JMTkHZ9uGrES",
        "colab_type": "code",
        "outputId": "bc803ed6-eabe-45c2-cfe4-d40b57920a6c",
        "colab": {
          "base_uri": "https://localhost:8080/",
          "height": 37
        }
      },
      "source": [
        "rmse = energy_loss(params, test_positions, test_energies) * 1000 / 64\n",
        "print('RMSE Error of {:.02f} meV / atom'.format(rmse))"
      ],
      "execution_count": 0,
      "outputs": [
        {
          "output_type": "stream",
          "text": [
            "RMSE Error of 1.60 meV / atom\n"
          ],
          "name": "stdout"
        }
      ]
    },
    {
      "cell_type": "markdown",
      "metadata": {
        "id": "kw14TB9YHovL",
        "colab_type": "text"
      },
      "source": [
        "We see that we get an error of about $2$ meV / atom, which is comparable to previous work on this system.\n",
        "\n",
        "Now that we have a well-performing neural network, we can see how easily this network can be used to run a simulation approximating Silicon. We will run a constant temperature simulation using a Nose-Hoover thermostat. First, we \"bake\" the params into the energy function using partial evaluation."
      ]
    },
    {
      "cell_type": "code",
      "metadata": {
        "id": "-5pfEq6YHFxd",
        "colab_type": "code",
        "colab": {}
      },
      "source": [
        "E_fn = partial(energy_fn, params)"
      ],
      "execution_count": 0,
      "outputs": []
    },
    {
      "cell_type": "markdown",
      "metadata": {
        "id": "J92Mr9OvI5ME",
        "colab_type": "text"
      },
      "source": [
        "Then, we setup the parameters of the simulation and create the simulation environment."
      ]
    },
    {
      "cell_type": "code",
      "metadata": {
        "id": "zLQjf50qI2Ed",
        "colab_type": "code",
        "colab": {}
      },
      "source": [
        "K_B = 8.617e-5\n",
        "dt = 1e-3\n",
        "kT = K_B * 300 \n",
        "Si_mass = 2.91086E-3\n",
        "\n",
        "init_fn, apply_fn = simulate.nvt_nose_hoover(E_fn, shift, dt, kT, tau=2.5)\n",
        "\n",
        "apply_fn = jit(apply_fn)"
      ],
      "execution_count": 0,
      "outputs": []
    },
    {
      "cell_type": "markdown",
      "metadata": {
        "id": "uzt4iy2JJACQ",
        "colab_type": "text"
      },
      "source": [
        "Finally we run the simulation for 10000 steps while writing the energy and temperature throughout."
      ]
    },
    {
      "cell_type": "code",
      "metadata": {
        "id": "pXpsLlnXI9K5",
        "colab_type": "code",
        "outputId": "82d93b00-4c42-40b3-aac1-2e1edc2be6e2",
        "colab": {
          "base_uri": "https://localhost:8080/",
          "height": 232
        }
      },
      "source": [
        "state = init_fn(key, test_positions[0], Si_mass, T_initial=300 * K_B)\n",
        "\n",
        "print('Energy (eV)\\tTemperature (K)')\n",
        "for i in range(10000):\n",
        "  state = apply_fn(state)\n",
        "\n",
        "  if i % 1000 == 0:\n",
        "    print('{:.02f}\\t\\t\\t{:.02f}'.format(\n",
        "        E_fn(state.position),\n",
        "        quantity.temperature(state.velocity, Si_mass) / K_B))"
      ],
      "execution_count": 0,
      "outputs": [
        {
          "output_type": "stream",
          "text": [
            "Energy (eV)\tTemperature (K)\n",
            "-359.67\t\t\t296.71\n",
            "-360.08\t\t\t288.44\n",
            "-359.80\t\t\t323.26\n",
            "-359.92\t\t\t332.70\n",
            "-360.75\t\t\t262.03\n",
            "-359.96\t\t\t283.85\n",
            "-360.01\t\t\t332.94\n",
            "-359.76\t\t\t304.26\n",
            "-359.57\t\t\t280.51\n",
            "-359.79\t\t\t275.29\n"
          ],
          "name": "stdout"
        }
      ]
    },
    {
      "cell_type": "markdown",
      "metadata": {
        "id": "XbpisZHBKIOP",
        "colab_type": "text"
      },
      "source": [
        "We see that the energy of the simulation is reasonable and the temperature is stable. Of course, if we were validating this model for use in a research setting there are many measurements that one would like to perform to check its fidelity."
      ]
    }
  ]
}